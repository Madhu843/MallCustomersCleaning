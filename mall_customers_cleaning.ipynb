{
 "cells": [
  {
   "cell_type": "markdown",
   "id": "9fcba646-af37-43fa-8580-7e8c9e259fd2",
   "metadata": {},
   "source": [
    "# 🧹 Data Cleaning and Preprocessing\n",
    "This notebook follows the steps outlined in the data cleaning task:\n",
    "- Handle missing values\n",
    "- Remove duplicates\n",
    "- Standardize text fields\n",
    "- Clean and rename columns\n",
    "- Fix data types\n",
    "- Save cleaned dataset\n"
   ]
  },
  {
   "cell_type": "code",
   "execution_count": 2,
   "id": "02b8d79b-44f5-4e8c-bfc3-bb8edb4a697e",
   "metadata": {},
   "outputs": [
    {
     "name": "stdout",
     "output_type": "stream",
     "text": [
      "Files inside ZIP: ['Mall_Customers.csv']\n"
     ]
    },
    {
     "data": {
      "text/html": [
       "<div>\n",
       "<style scoped>\n",
       "    .dataframe tbody tr th:only-of-type {\n",
       "        vertical-align: middle;\n",
       "    }\n",
       "\n",
       "    .dataframe tbody tr th {\n",
       "        vertical-align: top;\n",
       "    }\n",
       "\n",
       "    .dataframe thead th {\n",
       "        text-align: right;\n",
       "    }\n",
       "</style>\n",
       "<table border=\"1\" class=\"dataframe\">\n",
       "  <thead>\n",
       "    <tr style=\"text-align: right;\">\n",
       "      <th></th>\n",
       "      <th>CustomerID</th>\n",
       "      <th>Gender</th>\n",
       "      <th>Age</th>\n",
       "      <th>Annual Income (k$)</th>\n",
       "      <th>Spending Score (1-100)</th>\n",
       "    </tr>\n",
       "  </thead>\n",
       "  <tbody>\n",
       "    <tr>\n",
       "      <th>0</th>\n",
       "      <td>1</td>\n",
       "      <td>Male</td>\n",
       "      <td>19</td>\n",
       "      <td>15</td>\n",
       "      <td>39</td>\n",
       "    </tr>\n",
       "    <tr>\n",
       "      <th>1</th>\n",
       "      <td>2</td>\n",
       "      <td>Male</td>\n",
       "      <td>21</td>\n",
       "      <td>15</td>\n",
       "      <td>81</td>\n",
       "    </tr>\n",
       "    <tr>\n",
       "      <th>2</th>\n",
       "      <td>3</td>\n",
       "      <td>Female</td>\n",
       "      <td>20</td>\n",
       "      <td>16</td>\n",
       "      <td>6</td>\n",
       "    </tr>\n",
       "    <tr>\n",
       "      <th>3</th>\n",
       "      <td>4</td>\n",
       "      <td>Female</td>\n",
       "      <td>23</td>\n",
       "      <td>16</td>\n",
       "      <td>77</td>\n",
       "    </tr>\n",
       "    <tr>\n",
       "      <th>4</th>\n",
       "      <td>5</td>\n",
       "      <td>Female</td>\n",
       "      <td>31</td>\n",
       "      <td>17</td>\n",
       "      <td>40</td>\n",
       "    </tr>\n",
       "  </tbody>\n",
       "</table>\n",
       "</div>"
      ],
      "text/plain": [
       "   CustomerID  Gender  Age  Annual Income (k$)  Spending Score (1-100)\n",
       "0           1    Male   19                  15                      39\n",
       "1           2    Male   21                  15                      81\n",
       "2           3  Female   20                  16                       6\n",
       "3           4  Female   23                  16                      77\n",
       "4           5  Female   31                  17                      40"
      ]
     },
     "execution_count": 2,
     "metadata": {},
     "output_type": "execute_result"
    }
   ],
   "source": [
    "import pandas as pd\n",
    "import zipfile\n",
    "\n",
    "# Path to the zip file\n",
    "zip_path = r\"C:\\Users\\madhu\\Downloads\\archive (5).zip\"\n",
    "\n",
    "# Open the ZIP file and read the CSV\n",
    "with zipfile.ZipFile(zip_path) as z:\n",
    "    print(\"Files inside ZIP:\", z.namelist())  # Optional: Check file names inside ZIP\n",
    "    with z.open(\"Mall_Customers.csv\") as f:   # Make sure the file name is exact\n",
    "        df = pd.read_csv(f)\n",
    "\n",
    "# Preview the data\n",
    "df.head()\n"
   ]
  },
  {
   "cell_type": "code",
   "execution_count": 3,
   "id": "15608037-29f5-461b-8e17-ec83ace320f1",
   "metadata": {},
   "outputs": [
    {
     "name": "stdout",
     "output_type": "stream",
     "text": [
      "Missing values in each column:\n",
      "CustomerID                0\n",
      "Gender                    0\n",
      "Age                       0\n",
      "Annual Income (k$)        0\n",
      "Spending Score (1-100)    0\n",
      "dtype: int64\n"
     ]
    }
   ],
   "source": [
    "# Check for missing/null values\n",
    "print(\"Missing values in each column:\")\n",
    "print(df.isnull().sum())\n"
   ]
  },
  {
   "cell_type": "code",
   "execution_count": 4,
   "id": "f3953a47-a108-4fa0-b097-9e47c6d24bc2",
   "metadata": {},
   "outputs": [
    {
     "name": "stdout",
     "output_type": "stream",
     "text": [
      "Duplicate rows before: 0\n",
      "Duplicate rows after: 0\n"
     ]
    }
   ],
   "source": [
    "# Check and remove duplicates\n",
    "print(\"Duplicate rows before:\", df.duplicated().sum())\n",
    "df = df.drop_duplicates()\n",
    "print(\"Duplicate rows after:\", df.duplicated().sum())\n"
   ]
  },
  {
   "cell_type": "code",
   "execution_count": 5,
   "id": "7dd56ac6-e824-482d-970c-3965dfd784f0",
   "metadata": {},
   "outputs": [
    {
     "data": {
      "text/plain": [
       "array(['male', 'female'], dtype=object)"
      ]
     },
     "execution_count": 5,
     "metadata": {},
     "output_type": "execute_result"
    }
   ],
   "source": [
    "# Convert Gender column to lowercase\n",
    "df['Gender'] = df['Gender'].str.strip().str.lower()\n",
    "df['Gender'].unique()\n"
   ]
  },
  {
   "cell_type": "code",
   "execution_count": 6,
   "id": "6af7f242-e791-4a68-8992-c9bd883dd660",
   "metadata": {},
   "outputs": [
    {
     "data": {
      "text/html": [
       "<div>\n",
       "<style scoped>\n",
       "    .dataframe tbody tr th:only-of-type {\n",
       "        vertical-align: middle;\n",
       "    }\n",
       "\n",
       "    .dataframe tbody tr th {\n",
       "        vertical-align: top;\n",
       "    }\n",
       "\n",
       "    .dataframe thead th {\n",
       "        text-align: right;\n",
       "    }\n",
       "</style>\n",
       "<table border=\"1\" class=\"dataframe\">\n",
       "  <thead>\n",
       "    <tr style=\"text-align: right;\">\n",
       "      <th></th>\n",
       "      <th>customerid</th>\n",
       "      <th>gender</th>\n",
       "      <th>age</th>\n",
       "      <th>annual_income_(k$)</th>\n",
       "      <th>spending_score_(1-100)</th>\n",
       "    </tr>\n",
       "  </thead>\n",
       "  <tbody>\n",
       "    <tr>\n",
       "      <th>0</th>\n",
       "      <td>1</td>\n",
       "      <td>male</td>\n",
       "      <td>19</td>\n",
       "      <td>15</td>\n",
       "      <td>39</td>\n",
       "    </tr>\n",
       "    <tr>\n",
       "      <th>1</th>\n",
       "      <td>2</td>\n",
       "      <td>male</td>\n",
       "      <td>21</td>\n",
       "      <td>15</td>\n",
       "      <td>81</td>\n",
       "    </tr>\n",
       "    <tr>\n",
       "      <th>2</th>\n",
       "      <td>3</td>\n",
       "      <td>female</td>\n",
       "      <td>20</td>\n",
       "      <td>16</td>\n",
       "      <td>6</td>\n",
       "    </tr>\n",
       "    <tr>\n",
       "      <th>3</th>\n",
       "      <td>4</td>\n",
       "      <td>female</td>\n",
       "      <td>23</td>\n",
       "      <td>16</td>\n",
       "      <td>77</td>\n",
       "    </tr>\n",
       "    <tr>\n",
       "      <th>4</th>\n",
       "      <td>5</td>\n",
       "      <td>female</td>\n",
       "      <td>31</td>\n",
       "      <td>17</td>\n",
       "      <td>40</td>\n",
       "    </tr>\n",
       "  </tbody>\n",
       "</table>\n",
       "</div>"
      ],
      "text/plain": [
       "   customerid  gender  age  annual_income_(k$)  spending_score_(1-100)\n",
       "0           1    male   19                  15                      39\n",
       "1           2    male   21                  15                      81\n",
       "2           3  female   20                  16                       6\n",
       "3           4  female   23                  16                      77\n",
       "4           5  female   31                  17                      40"
      ]
     },
     "execution_count": 6,
     "metadata": {},
     "output_type": "execute_result"
    }
   ],
   "source": [
    "# Make column names lowercase and replace spaces with underscores\n",
    "df.columns = df.columns.str.strip().str.lower().str.replace(' ', '_')\n",
    "df.head()\n"
   ]
  },
  {
   "cell_type": "code",
   "execution_count": 7,
   "id": "955ada68-a8f0-49bd-b559-0c8877940e90",
   "metadata": {},
   "outputs": [
    {
     "name": "stdout",
     "output_type": "stream",
     "text": [
      "Before fixing:\n",
      "customerid                 int64\n",
      "gender                    object\n",
      "age                        int64\n",
      "annual_income_(k$)         int64\n",
      "spending_score_(1-100)     int64\n",
      "dtype: object\n",
      "\n",
      "After fixing:\n",
      "customerid                 int64\n",
      "gender                    object\n",
      "age                        int32\n",
      "annual_income_(k$)         int32\n",
      "spending_score_(1-100)     int32\n",
      "dtype: object\n"
     ]
    }
   ],
   "source": [
    "# Check original data types\n",
    "print(\"Before fixing:\")\n",
    "print(df.dtypes)\n",
    "\n",
    "# Ensure numeric columns are correct types\n",
    "df['age'] = df['age'].astype(int)\n",
    "df['annual_income_(k$)'] = df['annual_income_(k$)'].astype(int)\n",
    "df['spending_score_(1-100)'] = df['spending_score_(1-100)'].astype(int)\n",
    "\n",
    "print(\"\\nAfter fixing:\")\n",
    "print(df.dtypes)\n"
   ]
  },
  {
   "cell_type": "code",
   "execution_count": 8,
   "id": "dd248edf-952d-4337-9b1d-a8f666646187",
   "metadata": {},
   "outputs": [
    {
     "name": "stdout",
     "output_type": "stream",
     "text": [
      "=== Summary ===\n",
      "shape: (200, 5)\n",
      "columns: ['customerid', 'gender', 'age', 'annual_income_(k$)', 'spending_score_(1-100)']\n",
      "data_types: {'customerid': 'int64', 'gender': 'object', 'age': 'int32', 'annual_income_(k$)': 'int32', 'spending_score_(1-100)': 'int32'}\n",
      "nulls_per_column: {'customerid': 0, 'gender': 0, 'age': 0, 'annual_income_(k$)': 0, 'spending_score_(1-100)': 0}\n",
      "duplicate_rows_remaining: 0\n"
     ]
    }
   ],
   "source": [
    "summary = {\n",
    "    \"shape\": df.shape,\n",
    "    \"columns\": list(df.columns),\n",
    "    \"data_types\": df.dtypes.astype(str).to_dict(),\n",
    "    \"nulls_per_column\": df.isnull().sum().to_dict(),\n",
    "    \"duplicate_rows_remaining\": df.duplicated().sum()\n",
    "}\n",
    "\n",
    "print(\"=== Summary ===\")\n",
    "for key, value in summary.items():\n",
    "    print(f\"{key}: {value}\")\n"
   ]
  },
  {
   "cell_type": "code",
   "execution_count": null,
   "id": "92fb8315-445b-4dc4-b5f3-ba9cd3f2afe2",
   "metadata": {},
   "outputs": [],
   "source": []
  }
 ],
 "metadata": {
  "kernelspec": {
   "display_name": "Python [conda env:base] *",
   "language": "python",
   "name": "conda-base-py"
  },
  "language_info": {
   "codemirror_mode": {
    "name": "ipython",
    "version": 3
   },
   "file_extension": ".py",
   "mimetype": "text/x-python",
   "name": "python",
   "nbconvert_exporter": "python",
   "pygments_lexer": "ipython3",
   "version": "3.12.7"
  }
 },
 "nbformat": 4,
 "nbformat_minor": 5
}
